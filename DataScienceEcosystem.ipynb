{
 "cells": [
  {
   "cell_type": "markdown",
   "id": "512394cb",
   "metadata": {},
   "source": [
    "# Data Science Tools and Ecosystem"
   ]
  },
  {
   "cell_type": "markdown",
   "id": "6eaa14a1",
   "metadata": {},
   "source": [
    "In this notebook, Data Science Tools and Ecosystem are summarized."
   ]
  },
  {
   "cell_type": "markdown",
   "id": "4ac8520a",
   "metadata": {},
   "source": [
    "Some of the popular languages that Data Scientists use are:\n",
    "\n",
    "Python - Python is one of the most popular programming languages used in data science due to its simplicity, versatility, and wide range of libraries available for data manipulation, analysis, and visualization.\n",
    "\n",
    "R - R is another widely used language in data science that offers advanced statistical analysis capabilities and a variety of libraries for machine learning, data visualization, and data manipulation.\n",
    "\n",
    "SQL - SQL is a language used for managing and querying relational databases, which are commonly used to store and manage large amounts of data. Data scientists often use SQL to extract and manipulate data from databases.\n",
    "\n",
    "MATLAB - MATLAB is a high-level language and interactive environment that is widely used for numerical computation, data analysis, and visualization in engineering and scientific research.\n",
    "\n",
    "Julia - Julia is a relatively new language that was designed specifically for scientific computing and data science. It offers a fast and efficient execution of mathematical operations and has built-in support for distributed computing."
   ]
  },
  {
   "cell_type": "code",
   "execution_count": 1,
   "id": "b3de038f",
   "metadata": {},
   "outputs": [
    {
     "name": "stdout",
     "output_type": "stream",
     "text": [
      "['python', 'for', 'datascience']\n"
     ]
    }
   ],
   "source": [
    "Var = [\"python\", \"for\", \"datascience\"]\n",
    "print(Var)"
   ]
  },
  {
   "cell_type": "markdown",
   "id": "101a1799",
   "metadata": {},
   "source": [
    "Some of the commonly used libraries used by Data Scientists include:\n",
    "\n",
    "NumPy - NumPy is a fundamental library for scientific computing in Python, providing support for large, multi-dimensional arrays and matrices, as well as a wide range of mathematical operations to work with them.\n",
    "\n",
    "Pandas - Pandas is a library that provides data structures and functions to manipulate and analyze data in Python. It offers powerful tools for data wrangling, data cleaning, and data exploration.\n",
    "\n",
    "Matplotlib - Matplotlib is a plotting library for Python that provides a variety of visualizations, including line charts, bar charts, scatter plots, histograms, and many others. It is widely used for data visualization in data science projects.\n",
    "\n",
    "Scikit-learn - Scikit-learn is a library for machine learning in Python, providing efficient tools for data preprocessing, feature extraction, model selection, and model evaluation. It is widely used for building and deploying machine learning models in various domains.\n",
    "\n",
    "TensorFlow - TensorFlow is a popular library for building and deploying machine learning models, especially deep learning models. It provides a variety of tools for building and training neural networks, as well as tools for deploying models on different platforms."
   ]
  },
  {
   "cell_type": "code",
   "execution_count": 2,
   "id": "464902a6",
   "metadata": {},
   "outputs": [
    {
     "name": "stdout",
     "output_type": "stream",
     "text": [
      "['python', 'for', 'datascience']\n"
     ]
    }
   ],
   "source": [
    "Var = [\"python\", \"for\", \"datascience\"]\n",
    "print(Var)"
   ]
  },
  {
   "cell_type": "markdown",
   "id": "70d43120",
   "metadata": {},
   "source": [
    "# Data Science tools"
   ]
  },
  {
   "cell_type": "markdown",
   "id": "645df0c1",
   "metadata": {},
   "source": [
    "Jupyter\n",
    "Apache Spark\n",
    "R studio"
   ]
  },
  {
   "cell_type": "markdown",
   "id": "9163d7be",
   "metadata": {},
   "source": [
    "# Introducing Arthimmetic Expressions"
   ]
  },
  {
   "cell_type": "markdown",
   "id": "86334836",
   "metadata": {},
   "source": [
    "Below are a few examples of evaluating arithmetic expressions in Python"
   ]
  },
  {
   "cell_type": "code",
   "execution_count": 3,
   "id": "9450d3a2",
   "metadata": {},
   "outputs": [
    {
     "data": {
      "text/plain": [
       "17"
      ]
     },
     "execution_count": 3,
     "metadata": {},
     "output_type": "execute_result"
    }
   ],
   "source": [
    "#This a simple arithmetic expression to mutiply then add integers\n",
    "(3*4)+5"
   ]
  },
  {
   "cell_type": "code",
   "execution_count": 4,
   "id": "75d6a9ca",
   "metadata": {},
   "outputs": [
    {
     "name": "stdout",
     "output_type": "stream",
     "text": [
      "2.5\n"
     ]
    }
   ],
   "source": [
    "#This will convert 200 minutes to hours by diving by 60\n",
    "minutes = 150\n",
    "hours = minutes / 60\n",
    "print(hours)"
   ]
  },
  {
   "cell_type": "markdown",
   "id": "ac420194",
   "metadata": {},
   "source": [
    "# Exercise 3"
   ]
  },
  {
   "cell_type": "markdown",
   "id": "0cc1ea63",
   "metadata": {},
   "source": [
    "__Objectives:\n",
    "List popular languages for Data Science:"
   ]
  },
  {
   "cell_type": "code",
   "execution_count": 6,
   "id": "5562662a",
   "metadata": {},
   "outputs": [
    {
     "name": "stdout",
     "output_type": "stream",
     "text": [
      "['python', 'R', 'SQl', 'Julia', 'MATLAB']\n"
     ]
    }
   ],
   "source": [
    "Var = [\"python\", \"R\", \"SQl\", \"Julia\", \"MATLAB\"]\n",
    "print(Var)"
   ]
  },
  {
   "cell_type": "markdown",
   "id": "bc614856",
   "metadata": {},
   "source": [
    "# Author:\n",
    "V. Raghu Ram Chowdary"
   ]
  }
 ],
 "metadata": {
  "kernelspec": {
   "display_name": "Python 3 (ipykernel)",
   "language": "python",
   "name": "python3"
  },
  "language_info": {
   "codemirror_mode": {
    "name": "ipython",
    "version": 3
   },
   "file_extension": ".py",
   "mimetype": "text/x-python",
   "name": "python",
   "nbconvert_exporter": "python",
   "pygments_lexer": "ipython3",
   "version": "3.10.9"
  }
 },
 "nbformat": 4,
 "nbformat_minor": 5
}
